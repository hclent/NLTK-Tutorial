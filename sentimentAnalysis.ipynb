{
 "cells": [
  {
   "cell_type": "code",
   "execution_count": null,
   "metadata": {
    "collapsed": true
   },
   "outputs": [],
   "source": [
    "import nltk\n",
    "from nltk import word_tokenize\n",
    "\n",
    "from nltk.corpus import stopwords\n",
    "from nltk.corpus import movie_reviews\n",
    "\n",
    "import nltk.classify.util\n",
    "from nltk.classify import NaiveBayesClassifier\n",
    "import nltk.metrics\n",
    "import collections"
   ]
  },
  {
   "cell_type": "code",
   "execution_count": null,
   "metadata": {
    "collapsed": false
   },
   "outputs": [],
   "source": [
    "movie_reviews.categories()"
   ]
  },
  {
   "cell_type": "code",
   "execution_count": null,
   "metadata": {
    "collapsed": false
   },
   "outputs": [],
   "source": [
    "print(\"POSITIVE:\")\n",
    "print(movie_reviews.sents(categories='pos'))\n",
    "print(\"NEGATIVE:\")\n",
    "print(movie_reviews.sents(categories='neg'))"
   ]
  },
  {
   "cell_type": "code",
   "execution_count": null,
   "metadata": {
    "collapsed": false
   },
   "outputs": [],
   "source": [
    "print(movie_reviews.fileids())"
   ]
  },
  {
   "cell_type": "code",
   "execution_count": null,
   "metadata": {
    "collapsed": false
   },
   "outputs": [],
   "source": [
    "positive_raw = movie_reviews.raw(\"pos/cv262_12649.txt\")\n",
    "print(\"EXAMPLE POSITIVE\")\n",
    "print(positive_raw)"
   ]
  },
  {
   "cell_type": "code",
   "execution_count": null,
   "metadata": {
    "collapsed": false
   },
   "outputs": [],
   "source": [
    "neg_raw = movie_reviews.raw(\"neg/cv151_17231.txt\")\n",
    "print(\"EXAMPLE NEGATIVE\")\n",
    "print(neg_raw)"
   ]
  },
  {
   "cell_type": "code",
   "execution_count": null,
   "metadata": {
    "collapsed": false
   },
   "outputs": [],
   "source": [
    "'''Feature Extraction'''\n",
    "#Bag of Words feature extraction\n",
    "def word_feats(words):\n",
    "    return dict([(word, True) for word in words])\n",
    "\n",
    "negids = movie_reviews.fileids('neg')\n",
    "posids = movie_reviews.fileids('pos')\n",
    "\n",
    "stopwords = nltk.corpus.stopwords.words('english') #delete stopwords from data\n",
    " \n",
    "negfeats = [(word_feats(movie_reviews.words(fileids=[f])), 'neg') for f in negids if f not in stopwords]\n",
    "print(len(negfeats))\n",
    "posfeats = [(word_feats(movie_reviews.words(fileids=[f])), 'pos') for f in posids if f not in stopwords]\n",
    "#print(posfeats)"
   ]
  },
  {
   "cell_type": "code",
   "execution_count": null,
   "metadata": {
    "collapsed": false
   },
   "outputs": [],
   "source": [
    "'''Make training and testing sets'''\n",
    "\n",
    "negcutoff = int(len(negfeats)*3/4)\n",
    "print(negcutoff)\n",
    "poscutoff = int(len(posfeats)*3/4)\n",
    " \n",
    "trainfeats = negfeats[0:negcutoff] + posfeats[0:poscutoff]\n",
    "#print(trainfeats)\n",
    "testfeats = negfeats[negcutoff:] + posfeats[poscutoff:]\n",
    "print ('train on %d instances, test on %d instances' % (len(trainfeats), len(testfeats)))"
   ]
  },
  {
   "cell_type": "code",
   "execution_count": null,
   "metadata": {
    "collapsed": false
   },
   "outputs": [],
   "source": [
    "'''Naive Bayes Classifier'''\n",
    "\n",
    "classifier = NaiveBayesClassifier.train(trainfeats)\n",
    "print ('accuracy:', nltk.classify.util.accuracy(classifier, testfeats))\n",
    "classifier.show_most_informative_features()"
   ]
  },
  {
   "cell_type": "code",
   "execution_count": null,
   "metadata": {
    "collapsed": false
   },
   "outputs": [],
   "source": [
    "'''Precision and Recall'''\n",
    "\n",
    "refsets = collections.defaultdict(set)\n",
    "testsets = collections.defaultdict(set)\n",
    " \n",
    "for i, (feats, label) in enumerate(testfeats):\n",
    "    refsets[label].add(i)\n",
    "    observed = classifier.classify(feats)\n",
    "    testsets[observed].add(i)\n",
    " \n",
    "print('pos precision:', nltk.metrics.precision(refsets['pos'], testsets['pos']))\n",
    "print('pos recall:', nltk.metrics.recall(refsets['pos'], testsets['pos']))\n",
    "print('pos F-measure:', nltk.metrics.f_measure(refsets['pos'], testsets['pos']))\n",
    "print('neg precision:', nltk.metrics.precision(refsets['neg'], testsets['neg']))\n",
    "print('neg recall:', nltk.metrics.recall(refsets['neg'], testsets['neg']))\n",
    "print('neg F-measure:', nltk.metrics.f_measure(refsets['neg'], testsets['neg']))\n"
   ]
  },
  {
   "cell_type": "code",
   "execution_count": null,
   "metadata": {
    "collapsed": false
   },
   "outputs": [],
   "source": [
    "'''Using our classifier'''\n",
    "\n",
    "sent1 = \"I have never seen such an amazing film since I saw The Shawshank Redemption\" #pos\n",
    "sent2 = \"History will in fact adjudge 'The Two Towers' as the greatest of the three Rings\" #pos\n",
    "sent3 = \"it was an okay film\" #neutral\n",
    "sent4 = \"It was an OK film\" #neutral\n",
    "sent5 = \"This movie is beyond description\" #neg\n",
    "sent6 = \"'Monster A Go Go' is gloriously, mind shatteringly awful.\" #neg\n",
    "sent7 = \"Dracula 3000 is the epitome of painfully cheesy cinema.\" #neg\n",
    "\n",
    "def classify_sent(sentence):\n",
    "    tokens = nltk.word_tokenize(sentence)\n",
    "    print(\"TOKENS: \"+str(tokens))\n",
    "    words = [w for w in tokens if w.lower() not in stopwords]\n",
    "    print(\"REMOVE STOPWORDS: \"+str(words))\n",
    "    print(classifier.classify(word_feats(words)))\n",
    "\n",
    "classify_sent(sent1)\n",
    "classify_sent(sent2)\n",
    "classify_sent(sent3)\n",
    "classify_sent(sent4)\n",
    "classify_sent(sent5)\n",
    "classify_sent(sent6)\n",
    "classify_sent(sent7)"
   ]
  },
  {
   "cell_type": "code",
   "execution_count": null,
   "metadata": {
    "collapsed": true
   },
   "outputs": [],
   "source": []
  }
 ],
 "metadata": {
  "anaconda-cloud": {},
  "kernelspec": {
   "display_name": "Python [conda env:pyNLP]",
   "language": "python",
   "name": "conda-env-pyNLP-py"
  },
  "language_info": {
   "codemirror_mode": {
    "name": "ipython",
    "version": 3
   },
   "file_extension": ".py",
   "mimetype": "text/x-python",
   "name": "python",
   "nbconvert_exporter": "python",
   "pygments_lexer": "ipython3",
   "version": "3.4.5"
  }
 },
 "nbformat": 4,
 "nbformat_minor": 1
}
